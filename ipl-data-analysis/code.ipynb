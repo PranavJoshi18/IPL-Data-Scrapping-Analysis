{
 "cells": [
  {
   "cell_type": "code",
   "execution_count": null,
   "metadata": {},
   "outputs": [],
   "source": [
    "import pandas as pd \n",
    "import numpy\n",
    "import matplotlib.pyplot as plt"
   ]
  },
  {
   "cell_type": "code",
   "execution_count": 2,
   "metadata": {},
   "outputs": [
    {
     "data": {
      "text/html": [
       "<div>\n",
       "<style scoped>\n",
       "    .dataframe tbody tr th:only-of-type {\n",
       "        vertical-align: middle;\n",
       "    }\n",
       "\n",
       "    .dataframe tbody tr th {\n",
       "        vertical-align: top;\n",
       "    }\n",
       "\n",
       "    .dataframe thead th {\n",
       "        text-align: right;\n",
       "    }\n",
       "</style>\n",
       "<table border=\"1\" class=\"dataframe\">\n",
       "  <thead>\n",
       "    <tr style=\"text-align: right;\">\n",
       "      <th></th>\n",
       "      <th>Team 1</th>\n",
       "      <th>Team 2</th>\n",
       "      <th>Winner</th>\n",
       "      <th>Margin</th>\n",
       "      <th>Ground</th>\n",
       "      <th>Match Date</th>\n",
       "      <th>Scorecard</th>\n",
       "    </tr>\n",
       "  </thead>\n",
       "  <tbody>\n",
       "    <tr>\n",
       "      <th>0</th>\n",
       "      <td>Titans</td>\n",
       "      <td>Super Kings</td>\n",
       "      <td>Super Kings</td>\n",
       "      <td>5 wickets</td>\n",
       "      <td>Ahmedabad</td>\n",
       "      <td>May 28-29, 2023</td>\n",
       "      <td>Twenty20</td>\n",
       "    </tr>\n",
       "    <tr>\n",
       "      <th>1</th>\n",
       "      <td>Titans</td>\n",
       "      <td>Mumbai</td>\n",
       "      <td>Titans</td>\n",
       "      <td>62 runs</td>\n",
       "      <td>Ahmedabad</td>\n",
       "      <td>May 26, 2023</td>\n",
       "      <td>Twenty20</td>\n",
       "    </tr>\n",
       "    <tr>\n",
       "      <th>2</th>\n",
       "      <td>Super Giants</td>\n",
       "      <td>Mumbai</td>\n",
       "      <td>Mumbai</td>\n",
       "      <td>81 runs</td>\n",
       "      <td>Chennai</td>\n",
       "      <td>May 24, 2023</td>\n",
       "      <td>Twenty20</td>\n",
       "    </tr>\n",
       "    <tr>\n",
       "      <th>3</th>\n",
       "      <td>Super Kings</td>\n",
       "      <td>Titans</td>\n",
       "      <td>Super Kings</td>\n",
       "      <td>15 runs</td>\n",
       "      <td>Chennai</td>\n",
       "      <td>May 23, 2023</td>\n",
       "      <td>Twenty20</td>\n",
       "    </tr>\n",
       "    <tr>\n",
       "      <th>4</th>\n",
       "      <td>RCB</td>\n",
       "      <td>Titans</td>\n",
       "      <td>Titans</td>\n",
       "      <td>6 wickets</td>\n",
       "      <td>Bengaluru</td>\n",
       "      <td>May 21, 2023</td>\n",
       "      <td>Twenty20</td>\n",
       "    </tr>\n",
       "  </tbody>\n",
       "</table>\n",
       "</div>"
      ],
      "text/plain": [
       "         Team 1       Team 2       Winner     Margin     Ground  \\\n",
       "0        Titans  Super Kings  Super Kings  5 wickets  Ahmedabad   \n",
       "1        Titans       Mumbai       Titans    62 runs  Ahmedabad   \n",
       "2  Super Giants       Mumbai       Mumbai    81 runs    Chennai   \n",
       "3   Super Kings       Titans  Super Kings    15 runs    Chennai   \n",
       "4           RCB       Titans       Titans  6 wickets  Bengaluru   \n",
       "\n",
       "        Match Date Scorecard  \n",
       "0  May 28-29, 2023  Twenty20  \n",
       "1     May 26, 2023  Twenty20  \n",
       "2     May 24, 2023  Twenty20  \n",
       "3     May 23, 2023  Twenty20  \n",
       "4     May 21, 2023  Twenty20  "
      ]
     },
     "execution_count": 2,
     "metadata": {},
     "output_type": "execute_result"
    }
   ],
   "source": [
    "matches = pd.read_csv('matches.csv')\n",
    "matches.head()"
   ]
  },
  {
   "cell_type": "code",
   "execution_count": 3,
   "metadata": {},
   "outputs": [
    {
     "data": {
      "text/html": [
       "<div>\n",
       "<style scoped>\n",
       "    .dataframe tbody tr th:only-of-type {\n",
       "        vertical-align: middle;\n",
       "    }\n",
       "\n",
       "    .dataframe tbody tr th {\n",
       "        vertical-align: top;\n",
       "    }\n",
       "\n",
       "    .dataframe thead th {\n",
       "        text-align: right;\n",
       "    }\n",
       "</style>\n",
       "<table border=\"1\" class=\"dataframe\">\n",
       "  <thead>\n",
       "    <tr style=\"text-align: right;\">\n",
       "      <th></th>\n",
       "      <th>title</th>\n",
       "      <th>BATTING</th>\n",
       "      <th>dismissed</th>\n",
       "      <th>R</th>\n",
       "      <th>B</th>\n",
       "      <th>M</th>\n",
       "      <th>4s</th>\n",
       "      <th>6s</th>\n",
       "      <th>SR</th>\n",
       "    </tr>\n",
       "  </thead>\n",
       "  <tbody>\n",
       "    <tr>\n",
       "      <th>0</th>\n",
       "      <td>Gujarat Titans VS Chennai Super Kings</td>\n",
       "      <td>Wriddhiman Saha †</td>\n",
       "      <td>c †Dhoni b Chahar</td>\n",
       "      <td>54</td>\n",
       "      <td>39</td>\n",
       "      <td>63</td>\n",
       "      <td>5</td>\n",
       "      <td>1</td>\n",
       "      <td>138.46</td>\n",
       "    </tr>\n",
       "    <tr>\n",
       "      <th>1</th>\n",
       "      <td>Gujarat Titans VS Chennai Super Kings</td>\n",
       "      <td>Shubman Gill</td>\n",
       "      <td>st †Dhoni b Jadeja</td>\n",
       "      <td>39</td>\n",
       "      <td>20</td>\n",
       "      <td>34</td>\n",
       "      <td>7</td>\n",
       "      <td>0</td>\n",
       "      <td>195.00</td>\n",
       "    </tr>\n",
       "    <tr>\n",
       "      <th>2</th>\n",
       "      <td>Gujarat Titans VS Chennai Super Kings</td>\n",
       "      <td>Sai Sudharsan</td>\n",
       "      <td>lbw b Pathirana</td>\n",
       "      <td>96</td>\n",
       "      <td>47</td>\n",
       "      <td>58</td>\n",
       "      <td>8</td>\n",
       "      <td>6</td>\n",
       "      <td>204.25</td>\n",
       "    </tr>\n",
       "    <tr>\n",
       "      <th>3</th>\n",
       "      <td>Gujarat Titans VS Chennai Super Kings</td>\n",
       "      <td>Hardik Pandya (c)</td>\n",
       "      <td>not out</td>\n",
       "      <td>21</td>\n",
       "      <td>12</td>\n",
       "      <td>32</td>\n",
       "      <td>0</td>\n",
       "      <td>2</td>\n",
       "      <td>175.00</td>\n",
       "    </tr>\n",
       "    <tr>\n",
       "      <th>4</th>\n",
       "      <td>Gujarat Titans VS Chennai Super Kings</td>\n",
       "      <td>Rashid Khan</td>\n",
       "      <td>c Gaikwad b Pathirana</td>\n",
       "      <td>0</td>\n",
       "      <td>2</td>\n",
       "      <td>2</td>\n",
       "      <td>0</td>\n",
       "      <td>0</td>\n",
       "      <td>0.00</td>\n",
       "    </tr>\n",
       "  </tbody>\n",
       "</table>\n",
       "</div>"
      ],
      "text/plain": [
       "                                   title            BATTING  \\\n",
       "0  Gujarat Titans VS Chennai Super Kings  Wriddhiman Saha †   \n",
       "1  Gujarat Titans VS Chennai Super Kings      Shubman Gill    \n",
       "2  Gujarat Titans VS Chennai Super Kings     Sai Sudharsan    \n",
       "3  Gujarat Titans VS Chennai Super Kings  Hardik Pandya (c)   \n",
       "4  Gujarat Titans VS Chennai Super Kings       Rashid Khan    \n",
       "\n",
       "               dismissed   R   B   M  4s  6s      SR  \n",
       "0      c †Dhoni b Chahar  54  39  63   5   1  138.46  \n",
       "1     st †Dhoni b Jadeja  39  20  34   7   0  195.00  \n",
       "2        lbw b Pathirana  96  47  58   8   6  204.25  \n",
       "3               not out   21  12  32   0   2  175.00  \n",
       "4  c Gaikwad b Pathirana   0   2   2   0   0    0.00  "
      ]
     },
     "execution_count": 3,
     "metadata": {},
     "output_type": "execute_result"
    }
   ],
   "source": [
    "batting = pd.read_csv('all-batting-record.csv')\n",
    "batting.head()"
   ]
  },
  {
   "cell_type": "code",
   "execution_count": 4,
   "metadata": {},
   "outputs": [
    {
     "data": {
      "text/html": [
       "<div>\n",
       "<style scoped>\n",
       "    .dataframe tbody tr th:only-of-type {\n",
       "        vertical-align: middle;\n",
       "    }\n",
       "\n",
       "    .dataframe tbody tr th {\n",
       "        vertical-align: top;\n",
       "    }\n",
       "\n",
       "    .dataframe thead th {\n",
       "        text-align: right;\n",
       "    }\n",
       "</style>\n",
       "<table border=\"1\" class=\"dataframe\">\n",
       "  <thead>\n",
       "    <tr style=\"text-align: right;\">\n",
       "      <th></th>\n",
       "      <th>title</th>\n",
       "      <th>BOWLING</th>\n",
       "      <th>O</th>\n",
       "      <th>M</th>\n",
       "      <th>R</th>\n",
       "      <th>W</th>\n",
       "      <th>ECON</th>\n",
       "      <th>0s</th>\n",
       "      <th>4s</th>\n",
       "      <th>6s</th>\n",
       "      <th>WD</th>\n",
       "      <th>NB</th>\n",
       "    </tr>\n",
       "  </thead>\n",
       "  <tbody>\n",
       "    <tr>\n",
       "      <th>0</th>\n",
       "      <td>Gujarat Titans VS Chennai Super Kings</td>\n",
       "      <td>Deepak Chahar</td>\n",
       "      <td>4.0</td>\n",
       "      <td>0</td>\n",
       "      <td>38</td>\n",
       "      <td>1</td>\n",
       "      <td>9.5</td>\n",
       "      <td>5</td>\n",
       "      <td>3</td>\n",
       "      <td>1</td>\n",
       "      <td>0</td>\n",
       "      <td>0</td>\n",
       "    </tr>\n",
       "    <tr>\n",
       "      <th>1</th>\n",
       "      <td>Gujarat Titans VS Chennai Super Kings</td>\n",
       "      <td>Tushar Deshpande</td>\n",
       "      <td>4.0</td>\n",
       "      <td>0</td>\n",
       "      <td>56</td>\n",
       "      <td>0</td>\n",
       "      <td>14.0</td>\n",
       "      <td>4</td>\n",
       "      <td>7</td>\n",
       "      <td>3</td>\n",
       "      <td>0</td>\n",
       "      <td>0</td>\n",
       "    </tr>\n",
       "    <tr>\n",
       "      <th>2</th>\n",
       "      <td>Gujarat Titans VS Chennai Super Kings</td>\n",
       "      <td>Maheesh Theekshana</td>\n",
       "      <td>4.0</td>\n",
       "      <td>0</td>\n",
       "      <td>36</td>\n",
       "      <td>0</td>\n",
       "      <td>9.0</td>\n",
       "      <td>8</td>\n",
       "      <td>3</td>\n",
       "      <td>2</td>\n",
       "      <td>0</td>\n",
       "      <td>0</td>\n",
       "    </tr>\n",
       "    <tr>\n",
       "      <th>3</th>\n",
       "      <td>Gujarat Titans VS Chennai Super Kings</td>\n",
       "      <td>Ravindra Jadeja</td>\n",
       "      <td>4.0</td>\n",
       "      <td>0</td>\n",
       "      <td>38</td>\n",
       "      <td>1</td>\n",
       "      <td>9.5</td>\n",
       "      <td>3</td>\n",
       "      <td>3</td>\n",
       "      <td>1</td>\n",
       "      <td>0</td>\n",
       "      <td>0</td>\n",
       "    </tr>\n",
       "    <tr>\n",
       "      <th>4</th>\n",
       "      <td>Gujarat Titans VS Chennai Super Kings</td>\n",
       "      <td>Matheesha Pathirana</td>\n",
       "      <td>4.0</td>\n",
       "      <td>0</td>\n",
       "      <td>44</td>\n",
       "      <td>2</td>\n",
       "      <td>11.0</td>\n",
       "      <td>7</td>\n",
       "      <td>4</td>\n",
       "      <td>2</td>\n",
       "      <td>2</td>\n",
       "      <td>0</td>\n",
       "    </tr>\n",
       "  </tbody>\n",
       "</table>\n",
       "</div>"
      ],
      "text/plain": [
       "                                   title              BOWLING    O  M   R  W  \\\n",
       "0  Gujarat Titans VS Chennai Super Kings        Deepak Chahar  4.0  0  38  1   \n",
       "1  Gujarat Titans VS Chennai Super Kings     Tushar Deshpande  4.0  0  56  0   \n",
       "2  Gujarat Titans VS Chennai Super Kings   Maheesh Theekshana  4.0  0  36  0   \n",
       "3  Gujarat Titans VS Chennai Super Kings      Ravindra Jadeja  4.0  0  38  1   \n",
       "4  Gujarat Titans VS Chennai Super Kings  Matheesha Pathirana  4.0  0  44  2   \n",
       "\n",
       "   ECON  0s  4s  6s  WD  NB  \n",
       "0   9.5   5   3   1   0   0  \n",
       "1  14.0   4   7   3   0   0  \n",
       "2   9.0   8   3   2   0   0  \n",
       "3   9.5   3   3   1   0   0  \n",
       "4  11.0   7   4   2   2   0  "
      ]
     },
     "execution_count": 4,
     "metadata": {},
     "output_type": "execute_result"
    }
   ],
   "source": [
    "bowling = pd.read_csv('all-bowling-record.csv')\n",
    "bowling.head()"
   ]
  },
  {
   "cell_type": "code",
   "execution_count": 5,
   "metadata": {},
   "outputs": [
    {
     "data": {
      "text/plain": [
       "<Axes: title={'center': 'Points Table'}, xlabel='Teams', ylabel='Matches Won'>"
      ]
     },
     "execution_count": 5,
     "metadata": {},
     "output_type": "execute_result"
    },
    {
     "data": {
      "image/png": "[encoded data removed]",
      "text/plain": [
       "<Figure size 640x480 with 1 Axes>"
      ]
     },
     "metadata": {},
     "output_type": "display_data"
    }
   ],
   "source": [
    "# which team won the most number of matches?\n",
    "\n",
    "won = matches.groupby('Winner').count()['Scorecard']\n",
    "won.plot(kind='bar',title='Points Table',xlabel='Teams',ylabel='Matches Won')\n",
    "\n",
    "#from this it is clear that Titans won the most matches while SRH won the least no. of matches"
   ]
  },
  {
   "cell_type": "code",
   "execution_count": 6,
   "metadata": {},
   "outputs": [
    {
     "name": "stdout",
     "output_type": "stream",
     "text": [
      "ORANGE CAP HOLDER \n",
      "\n",
      "BATTING\n",
      "Shubman Gill     890\n",
      "Name: R, dtype: int64\n",
      "\n",
      "\n"
     ]
    }
   ],
   "source": [
    "# which player scored the most amt of runs (Orange Cap Holder)?\n",
    "\n",
    "high_scores = batting.groupby('BATTING').sum()\n",
    "high_scores = high_scores.sort_values('R',ascending=False)\n",
    "print(\"ORANGE CAP HOLDER \\n\")\n",
    "print(high_scores['R'].head(1)) #Shubman Gill will get the Orange Cap!\n",
    "print(\"\\n\")"
   ]
  },
  {
   "cell_type": "code",
   "execution_count": 7,
   "metadata": {},
   "outputs": [
    {
     "name": "stdout",
     "output_type": "stream",
     "text": [
      "POWER HITTERS \n",
      "\n",
      "BATTING\n",
      "Shivam Dube           36.583333\n",
      "Shubman Gill          34.578014\n",
      "Glenn Maxwell         32.834862\n",
      "Ruturaj Gaikwad       31.475000\n",
      "Rinku Singh           30.495268\n",
      "Faf du Plessis (c)    28.520107\n",
      "Marcus Stoinis        28.500000\n",
      "Yashasvi Jaiswal      27.636126\n",
      "Suryakumar Yadav      26.818770\n",
      "Heinrich Klaasen †    26.770751\n",
      "Name: avg, dtype: float64\n",
      "\n",
      "\n"
     ]
    }
   ],
   "source": [
    "# Power Hitters?\n",
    "# for this first calculated the avg of all players (how many runs have they scored in their balls played)\n",
    "# this would help as if the no. of balls played is less, the avg will be more\n",
    "# to improve the accuracy, i added the 6s count\n",
    "# because power hitters usually hit more no. of 6s\n",
    "\n",
    "print(\"POWER HITTERS \\n\")\n",
    "high_scores['avg'] = (high_scores['R']/high_scores['B']) + high_scores['6s']\n",
    "high_scores = high_scores.sort_values('avg',ascending=False).head(10)\n",
    "print(high_scores['avg'])\n",
    "print(\"\\n\")"
   ]
  },
  {
   "cell_type": "code",
   "execution_count": 8,
   "metadata": {},
   "outputs": [
    {
     "name": "stdout",
     "output_type": "stream",
     "text": [
      "Most Hundreds in IPL 2023 \n",
      "\n",
      "BATTING\n",
      "Shubman Gill          3\n",
      "Virat Kohli           2\n",
      "Cameron Green         1\n",
      "Harry Brook           1\n",
      "Heinrich Klaasen †    1\n",
      "Prabhsimran Singh     1\n",
      "Suryakumar Yadav      1\n",
      "Venkatesh Iyer        1\n",
      "Yashasvi Jaiswal      1\n",
      "Name: R, dtype: int64\n"
     ]
    }
   ],
   "source": [
    "# Most 100s\n",
    "\n",
    "print(\"Most Hundreds in IPL 2023 \\n\")\n",
    "\n",
    "''' method 1:\n",
    "\n",
    "hundred = {}\n",
    "for i,r in batting.iterrows():\n",
    "    if (r['R']>=100):\n",
    "        if (r['BATTING'] not in hundred):\n",
    "            hundred[r['BATTING']]=1\n",
    "        else:\n",
    "            hundred[r['BATTING']]+=1\n",
    "print(hundred)\n",
    "print(\"\\n\")      '''\n",
    "\n",
    "# method 2:\n",
    "print(batting[batting['R']>=100].groupby('BATTING').count().sort_values('R',ascending=False)['R'])"
   ]
  },
  {
   "cell_type": "code",
   "execution_count": 9,
   "metadata": {},
   "outputs": [
    {
     "name": "stdout",
     "output_type": "stream",
     "text": [
      "Fastest 100! \n",
      "\n",
      "                BATTING    R   B\n",
      "88       Cameron Green   100  47\n",
      "261   Suryakumar Yadav   103  49\n",
      "142  Heinrich Klaasen †  104  51\n",
      "808     Venkatesh Iyer   104  51\n",
      "74        Shubman Gill   104  52\n",
      "859        Harry Brook   100  55\n",
      "176       Shubman Gill   101  58\n",
      "13        Shubman Gill   129  60\n",
      "66         Virat Kohli   101  61\n",
      "482   Yashasvi Jaiswal   124  62\n",
      "145        Virat Kohli   100  63\n",
      "227  Prabhsimran Singh   103  65\n"
     ]
    }
   ],
   "source": [
    "# Fastest 100!\n",
    "\n",
    "print(\"Fastest 100! \\n\")\n",
    "\n",
    "''' method 1:\n",
    "\n",
    "fastest={}\n",
    "for i,r in batting.iterrows():\n",
    "    if (r['R']>=100):\n",
    "        if (r['BATTING'] in hundred):\n",
    "            if (fastest[r['BATTING']]<r['B']):\n",
    "                fastest[r['BATTING']]=r['B']\n",
    "        else:\n",
    "            fastest[r['BATTING']]=r['B']\n",
    "fastest '''\n",
    "\n",
    "# method 2:\n",
    "print(batting[batting['R']>=100].sort_values('B')[['BATTING','R','B']])"
   ]
  },
  {
   "cell_type": "code",
   "execution_count": 10,
   "metadata": {},
   "outputs": [
    {
     "data": {
      "text/plain": [
       "{'Titans': 5,\n",
       " 'Super Kings': 5,\n",
       " 'Super Giants': 3,\n",
       " 'KKR': 2,\n",
       " 'Capitals': 2,\n",
       " 'Royals': 1,\n",
       " 'RCB': 3,\n",
       " 'Sunrisers': 1,\n",
       " 'Punjab Kings': 1}"
      ]
     },
     "execution_count": 10,
     "metadata": {},
     "output_type": "execute_result"
    }
   ],
   "source": [
    "# Which team won at home ground the most?\n",
    "\n",
    "ground = {'Titans':'Ahmedabad','Super Kings':'Chennai','Mumbai':'Wankhade','Super Giants':'Lucknow','RCB':'Bengaluru','KKR':'Eden Gardens','Punjab Kings':'Mohali','Royals':'Jaipur','Capitals':'Delhi','Sunrisers':'Hyderabad'}\n",
    "won_at_home={}\n",
    "for i,r in matches.iterrows():\n",
    "    if (r['Ground']==ground[r['Team 1']] and r['Winner']==r['Team 1']):\n",
    "        if (r['Team 1'] not in won_at_home):\n",
    "            won_at_home[r['Team 1']]=1\n",
    "        else:\n",
    "            won_at_home[r['Team 1']]+=1\n",
    "    elif (r['Ground']==ground[r['Team 2']] and r['Winner']==r['Team 2']):\n",
    "        if (r['Team 2'] not in won_at_home):\n",
    "            won_at_home[r['Team 2']]=1\n",
    "        else:\n",
    "            won_at_home[r['Team 2']]+=1\n",
    "won_at_home  #this might be difficult because sadly Punjab Kings had 2 home grounds"
   ]
  },
  {
   "cell_type": "code",
   "execution_count": 11,
   "metadata": {},
   "outputs": [
    {
     "data": {
      "text/plain": [
       "BOWLING\n",
       "Mohammed Shami         28\n",
       "Rashid Khan            27\n",
       "Mohit Sharma           27\n",
       "Piyush Chawla          22\n",
       "Yuzvendra Chahal       21\n",
       "Tushar Deshpande       21\n",
       "Varun Chakravarthy     20\n",
       "Ravindra Jadeja        20\n",
       "Matheesha Pathirana    19\n",
       "Mohammed Siraj         19\n",
       "Name: W, dtype: int64"
      ]
     },
     "execution_count": 11,
     "metadata": {},
     "output_type": "execute_result"
    }
   ],
   "source": [
    "# which bowler took the most wickets? (Purple Cap)\n",
    "\n",
    "bowling.groupby('BOWLING').sum().sort_values('W',ascending=False)['W'].head(10)"
   ]
  }
 ],
 "metadata": {
  "kernelspec": {
   "display_name": "Python 3",
   "language": "python",
   "name": "python3"
  },
  "language_info": {
   "codemirror_mode": {
    "name": "ipython",
    "version": 3
   },
   "file_extension": ".py",
   "mimetype": "text/x-python",
   "name": "python",
   "nbconvert_exporter": "python",
   "pygments_lexer": "ipython3",
   "version": "3.10.11"
  }
 },
 "nbformat": 4,
 "nbformat_minor": 2
}
